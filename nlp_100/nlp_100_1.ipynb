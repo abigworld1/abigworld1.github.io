{
 "cells": [
  {
   "cell_type": "markdown",
   "id": "fcb22e05-ba90-4bf5-916b-7d7502e5fc0d",
   "metadata": {},
   "source": [
    "# 第１章"
   ]
  },
  {
   "cell_type": "markdown",
   "id": "d82428de-2943-4e6c-bce5-ad710e84b070",
   "metadata": {},
   "source": [
    "## 00"
   ]
  },
  {
   "cell_type": "code",
   "execution_count": 8,
   "id": "897a2eab-cb0b-4391-8d5f-26f2edd3b11b",
   "metadata": {},
   "outputs": [
    {
     "name": "stdout",
     "output_type": "stream",
     "text": [
      "desserts\n"
     ]
    }
   ],
   "source": [
    "str = \"stressed\"[::-1]\n",
    "print(str)\n"
   ]
  },
  {
   "cell_type": "markdown",
   "id": "736e7256-9a85-4ee3-8329-cacfe42f9c98",
   "metadata": {},
   "source": [
    "## 01"
   ]
  },
  {
   "cell_type": "code",
   "execution_count": 9,
   "id": "b087c3b7-f01d-4b32-ad14-8f083a90bdc5",
   "metadata": {},
   "outputs": [
    {
     "name": "stdout",
     "output_type": "stream",
     "text": [
      "パトカー\n"
     ]
    }
   ],
   "source": [
    "# 文字列の定義\n",
    "text = \"パタトクカシーー\"\n",
    "\n",
    "# 1, 3, 5, 7文字目を取り出して連結\n",
    "result = text[0] + text[2] + text[4] + text[6]\n",
    "\n",
    "# 結果を出力\n",
    "print(result)\n"
   ]
  },
  {
   "cell_type": "markdown",
   "id": "82d80c13-7a85-4b5a-9781-40a011602064",
   "metadata": {},
   "source": [
    "# 02"
   ]
  },
  {
   "cell_type": "code",
   "execution_count": 10,
   "id": "5c6f2a6f-0134-489b-8cf0-15cd802a50ab",
   "metadata": {},
   "outputs": [
    {
     "name": "stdout",
     "output_type": "stream",
     "text": [
      "パタトクカシーー\n"
     ]
    }
   ],
   "source": [
    "# 文字列の定義\n",
    "text1 = \"パトカー\"\n",
    "text2 = \"タクシー\"\n",
    "\n",
    "# 交互に文字を取り出して連結\n",
    "result = ''.join([a + b for a, b in zip(text1, text2)])\n",
    "\n",
    "# 結果を出力\n",
    "print(result)\n"
   ]
  },
  {
   "cell_type": "markdown",
   "id": "91db6aea-f633-4bf9-9caa-e587bd48ea33",
   "metadata": {},
   "source": [
    "# 03"
   ]
  },
  {
   "cell_type": "code",
   "execution_count": 11,
   "id": "756e8cff-785c-4b84-9ed8-c0f2913424aa",
   "metadata": {},
   "outputs": [
    {
     "name": "stdout",
     "output_type": "stream",
     "text": [
      "[3, 1, 4, 1, 5, 9, 2, 6, 5, 3, 5, 8, 9, 7, 9]\n"
     ]
    }
   ],
   "source": [
    "# 与えられた文章\n",
    "sentence = \"Now I need a drink, alcoholic of course, after the heavy lectures involving quantum mechanics.\"\n",
    "\n",
    "# 単語に分解（句読点を除去）\n",
    "words = sentence.replace(\",\", \"\").replace(\".\", \"\").split()\n",
    "\n",
    "# 各単語の文字数を計算\n",
    "word_lengths = [len(word) for word in words]\n",
    "\n",
    "# 結果を出力\n",
    "print(word_lengths)\n"
   ]
  },
  {
   "cell_type": "markdown",
   "id": "ef2b5449-6b29-4670-9d0a-2a7a6103b4ae",
   "metadata": {},
   "source": [
    "# 04"
   ]
  },
  {
   "cell_type": "code",
   "execution_count": 13,
   "id": "9444e61b-c1d3-4229-8f0c-d40a46492f5f",
   "metadata": {},
   "outputs": [
    {
     "name": "stdout",
     "output_type": "stream",
     "text": [
      "{'H': 1, 'He': 2, 'Li': 3, 'Be': 4, 'B': 5, 'C': 6, 'N': 7, 'O': 8, 'F': 9, 'Ne': 10, 'Na': 11, 'Mi': 12, 'Al': 13, 'Si': 14, 'P': 15, 'S': 16, 'Cl': 17, 'Ar': 18, 'K': 19, 'Ca': 20}\n"
     ]
    }
   ],
   "source": [
    "# 与えられた文章\n",
    "sentence = \"Hi He Lied Because Boron Could Not Oxidize Fluorine. New Nations Might Also Sign Peace Security Clause. Arthur King Can.\"\n",
    "\n",
    "# 句読点を除去して単語に分解\n",
    "words = sentence.replace(\".\", \"\").split()\n",
    "\n",
    "# 1文字だけを取り出す単語のインデックス（1から始まる）\n",
    "one_char_indices = [1, 5, 6, 7, 8, 9, 15, 16, 19]\n",
    "\n",
    "# 結果を格納する辞書\n",
    "word_map = {}\n",
    "\n",
    "# 各単語を処理して辞書に格納\n",
    "for i, word in enumerate(words, 1):  # 単語の位置が1から始まるようにenumerateを使う\n",
    "    if i in one_char_indices:\n",
    "        word_map[word[:1]] = i  # 1文字だけを取り出す\n",
    "    else:\n",
    "        word_map[word[:2]] = i  # 2文字を取り出す\n",
    "\n",
    "# 結果を出力\n",
    "print(word_map)\n"
   ]
  },
  {
   "cell_type": "markdown",
   "id": "548fbf39-d8ef-4fdd-8b39-3dde6af455ca",
   "metadata": {},
   "source": [
    "# 05"
   ]
  },
  {
   "cell_type": "code",
   "execution_count": 16,
   "id": "a76b530b-612e-4d31-88ca-cb1e3d825f14",
   "metadata": {},
   "outputs": [
    {
     "name": "stdout",
     "output_type": "stream",
     "text": [
      "単語bi-gram: [['I', 'am'], ['am', 'an'], ['an', 'NLPer']]\n",
      "文字bi-gram: ['Ia', 'am', 'ma', 'an', 'nN', 'NL', 'LP', 'Pe', 'er']\n"
     ]
    }
   ],
   "source": [
    "# n-gramを作成する関数\n",
    "def n_gram(sequence, n):\n",
    "    return [sequence[i:i+n] for i in range(len(sequence) - n + 1)]\n",
    "\n",
    "# 与えられた文章\n",
    "sentence = \"I am an NLPer\"\n",
    "\n",
    "# 単語bi-gram\n",
    "words = sentence.split()  # 文を単語に分解\n",
    "word_bi_gram = n_gram(words, 2)  # 単語でのbi-gramを生成\n",
    "\n",
    "# 文字bi-gram\n",
    "char_bi_gram = n_gram(sentence.replace(\" \", \"\"), 2)  # 空白を除去して文字でのbi-gramを生成\n",
    "\n",
    "# 結果を出力\n",
    "print(\"単語bi-gram:\", word_bi_gram)\n",
    "print(\"文字bi-gram:\", char_bi_gram)\n"
   ]
  },
  {
   "cell_type": "markdown",
   "id": "164ea0b2-61e9-4567-842b-4351efaad11d",
   "metadata": {},
   "source": [
    "# 06"
   ]
  },
  {
   "cell_type": "code",
   "execution_count": 18,
   "id": "6902388a-eb44-4532-a4b9-df5d0d6062d9",
   "metadata": {},
   "outputs": [
    {
     "name": "stdout",
     "output_type": "stream",
     "text": [
      "X: {'ra', 'ad', 'di', 'pa', 'ar', 'is', 'se', 'ap'}\n",
      "Y: {'gr', 'ra', 'ag', 'pa', 'ar', 'ap', 'ph'}\n",
      "和集合: {'gr', 'ra', 'ad', 'di', 'ag', 'pa', 'ar', 'is', 'se', 'ap', 'ph'}\n",
      "積集合: {'pa', 'ra', 'ap', 'ar'}\n",
      "差集合: {'is', 'di', 'se', 'ad'}\n",
      "'se'がXに含まれるか: True\n",
      "'se'がYに含まれるか: False\n"
     ]
    }
   ],
   "source": [
    "# n-gramを作成する関数\n",
    "def n_gram(sequence, n):\n",
    "    return [sequence[i:i+n] for i in range(len(sequence) - n + 1)]\n",
    "\n",
    "# 文字列からbi-gramを作成\n",
    "str1 = \"paraparaparadise\"\n",
    "str2 = \"paragraph\"\n",
    "\n",
    "# それぞれの文字bi-gram集合を求める\n",
    "X = set(n_gram(str1, 2))\n",
    "Y = set(n_gram(str2, 2))\n",
    "\n",
    "# 和集合、積集合、差集合を求める\n",
    "union = X | Y\n",
    "intersection = X & Y\n",
    "difference = X - Y\n",
    "\n",
    "# 'se'がXとYに含まれるかどうかを調べる\n",
    "is_se_in_X = 'se' in X\n",
    "is_se_in_Y = 'se' in Y\n",
    "\n",
    "# 結果を出力\n",
    "print(\"X:\", X)\n",
    "print(\"Y:\", Y)\n",
    "print(\"和集合:\", union)\n",
    "print(\"積集合:\", intersection)\n",
    "print(\"差集合:\", difference)\n",
    "print(\"'se'がXに含まれるか:\", is_se_in_X)\n",
    "print(\"'se'がYに含まれるか:\", is_se_in_Y)\n"
   ]
  },
  {
   "cell_type": "markdown",
   "id": "0c16e8df-c4df-43cb-b763-cc07015ea55f",
   "metadata": {},
   "source": [
    "# 07"
   ]
  },
  {
   "cell_type": "code",
   "execution_count": 19,
   "id": "187ba0fb-491c-4cbc-81b0-f01568d52318",
   "metadata": {},
   "outputs": [
    {
     "name": "stdout",
     "output_type": "stream",
     "text": [
      "12時の気温は22.4\n"
     ]
    }
   ],
   "source": [
    "# 関数の定義\n",
    "def create_sentence(x, y, z):\n",
    "    return f\"{x}時の{y}は{z}\"\n",
    "\n",
    "# 関数の実行\n",
    "x = 12\n",
    "y = \"気温\"\n",
    "z = 22.4\n",
    "result = create_sentence(x, y, z)\n",
    "\n",
    "# 結果を出力\n",
    "print(result)\n"
   ]
  },
  {
   "cell_type": "markdown",
   "id": "2adeba60-95be-4674-985d-5a16835021b7",
   "metadata": {},
   "source": [
    "# 08"
   ]
  },
  {
   "cell_type": "code",
   "execution_count": 20,
   "id": "c780ea4f-f918-4c45-91ee-eacd8d712bab",
   "metadata": {},
   "outputs": [
    {
     "name": "stdout",
     "output_type": "stream",
     "text": [
      "暗号化: I zn z NLPvi.\n",
      "復号化: I am a NLPer.\n"
     ]
    }
   ],
   "source": [
    "# cipher関数の定義\n",
    "def cipher(text):\n",
    "    # 各文字を処理\n",
    "    result = ''.join([chr(219 - ord(c)) if c.islower() else c for c in text])\n",
    "    return result\n",
    "\n",
    "# 暗号化するメッセージ\n",
    "message = \"I am a NLPer.\"\n",
    "\n",
    "# 暗号化\n",
    "encrypted_message = cipher(message)\n",
    "print(\"暗号化:\", encrypted_message)\n",
    "\n",
    "# 復号化 (同じ関数を使うことで復号も可能)\n",
    "decrypted_message = cipher(encrypted_message)\n",
    "print(\"復号化:\", decrypted_message)\n"
   ]
  },
  {
   "cell_type": "markdown",
   "id": "b49b5fa0-e644-419b-ac3b-8e35484a4e19",
   "metadata": {},
   "source": [
    "# 09"
   ]
  },
  {
   "cell_type": "code",
   "execution_count": 22,
   "id": "68ceb812-b9ae-49bd-80d4-036068b5a59a",
   "metadata": {},
   "outputs": [
    {
     "name": "stdout",
     "output_type": "stream",
     "text": [
      "I cdlnu’ot bevliee that I colud aclltuay uedsrntand what I was radnieg : the pmnehneaol power of the hamun mind .\n"
     ]
    }
   ],
   "source": [
    "import random\n",
    "\n",
    "# 単語をシャッフルする関数\n",
    "def shuffle_middle(word):\n",
    "    if len(word) <= 4:  # 長さが4以下の単語は並び替えない\n",
    "        return word\n",
    "    middle = list(word[1:-1])  # 先頭と末尾以外の文字を取り出す\n",
    "    random.shuffle(middle)  # 先頭と末尾以外の文字をシャッフル\n",
    "    return word[0] + ''.join(middle) + word[-1]  # 先頭、シャッフルした文字、末尾を結合して返す\n",
    "\n",
    "# 文章全体を処理する関数\n",
    "def process_sentence(sentence):\n",
    "    words = sentence.split()  # スペースで分割して単語ごとにリスト化\n",
    "    shuffled_words = [shuffle_middle(word) for word in words]  # 各単語をシャッフル処理\n",
    "    return ' '.join(shuffled_words)  # 単語を再びスペースで結合して返す\n",
    "\n",
    "# 適当な英語の文\n",
    "sentence = \"I couldn’t believe that I could actually understand what I was reading : the phenomenal power of the human mind .\"\n",
    "\n",
    "# 実行\n",
    "result = process_sentence(sentence)\n",
    "print(result)\n"
   ]
  },
  {
   "cell_type": "code",
   "execution_count": null,
   "id": "d3973e0b-cf96-4faa-95a0-3c29dce084be",
   "metadata": {},
   "outputs": [],
   "source": []
  }
 ],
 "metadata": {
  "kernelspec": {
   "display_name": "Python 3 (ipykernel)",
   "language": "python",
   "name": "python3"
  },
  "language_info": {
   "codemirror_mode": {
    "name": "ipython",
    "version": 3
   },
   "file_extension": ".py",
   "mimetype": "text/x-python",
   "name": "python",
   "nbconvert_exporter": "python",
   "pygments_lexer": "ipython3",
   "version": "3.12.5"
  }
 },
 "nbformat": 4,
 "nbformat_minor": 5
}
