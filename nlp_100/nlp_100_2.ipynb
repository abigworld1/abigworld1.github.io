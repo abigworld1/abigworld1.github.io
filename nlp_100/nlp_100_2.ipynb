{
 "cells": [
  {
   "cell_type": "markdown",
   "id": "cdbb2d71-8840-4576-a3b3-70a5161a0a4a",
   "metadata": {},
   "source": [
    "# 10"
   ]
  },
  {
   "cell_type": "code",
   "execution_count": 1,
   "id": "83390e36-a609-4a26-9517-0373af67de6c",
   "metadata": {},
   "outputs": [
    {
     "name": "stdout",
     "output_type": "stream",
     "text": [
      "行数: 2780\n"
     ]
    }
   ],
   "source": [
    "# popular-names.txtの行数をカウントするプログラム\n",
    "def count_lines(file_path):\n",
    "    with open(file_path, 'r') as file:\n",
    "        lines = file.readlines()  # ファイルをすべて読み込んで行ごとにリスト化\n",
    "        return len(lines)  # 行数を返す\n",
    "\n",
    "# popular-names.txtのパス\n",
    "file_path = 'popular-names.txt'\n",
    "\n",
    "# 行数をカウントして表示\n",
    "line_count = count_lines(file_path)\n",
    "print(f\"行数: {line_count}\")\n"
   ]
  },
  {
   "cell_type": "markdown",
   "id": "604fc590-5d0c-4305-80d2-8f816621f511",
   "metadata": {},
   "source": [
    "# 11"
   ]
  },
  {
   "cell_type": "code",
   "execution_count": 2,
   "id": "0c570279-0976-4353-80d4-052a7b0f594b",
   "metadata": {},
   "outputs": [
    {
     "name": "stdout",
     "output_type": "stream",
     "text": [
      "'popular-names.txt'のタブをスペースに置換し、'popular-names-space.txt'に保存しました。\n"
     ]
    }
   ],
   "source": [
    "# タブ文字をスペースに置換するプログラム\n",
    "def replace_tabs_with_spaces(file_path, output_file_path):\n",
    "    with open(file_path, 'r') as file:\n",
    "        content = file.read()  # ファイル全体を読み込む\n",
    "        modified_content = content.replace('\\t', ' ')  # タブをスペースに置換\n",
    "    \n",
    "    with open(output_file_path, 'w') as output_file:\n",
    "        output_file.write(modified_content)  # 置換後の内容を書き込む\n",
    "\n",
    "# ファイルパスの指定\n",
    "input_file_path = 'popular-names.txt'\n",
    "output_file_path = 'popular-names-space.txt'\n",
    "\n",
    "# 置換処理の実行\n",
    "replace_tabs_with_spaces(input_file_path, output_file_path)\n",
    "print(f\"'{input_file_path}'のタブをスペースに置換し、'{output_file_path}'に保存しました。\")\n"
   ]
  },
  {
   "cell_type": "markdown",
   "id": "8f1762b3-3fb6-4953-91fd-97c5182f6a17",
   "metadata": {},
   "source": [
    "# 12"
   ]
  },
  {
   "cell_type": "code",
   "execution_count": null,
   "id": "0667b7fd-47ba-4ff8-a1ac-196287c515cc",
   "metadata": {},
   "outputs": [],
   "source": [
    "# 1列目と2列目を別ファイルに保存するプログラム\n",
    "def extract_columns(input_file, col1_file, col2_file):\n",
    "    with open(input_file, 'r') as file, open(col1_file, 'w') as col1, open(col2_file, 'w') as col2:\n",
    "        for line in file:\n",
    "            columns = line.split('\\t')  # タブ区切りで列を分割\n",
    "            if len(columns) >= 2:\n",
    "                col1.write(columns[0] + '\\n')  # 1列目を書き込み\n",
    "                col2.write(columns[1] + '\\n')  # 2列目を書き込み\n",
    "\n",
    "# 入力ファイルと出力ファイルのパス\n",
    "input_file_path = 'popular-names.txt'\n",
    "col1_output_path = 'col1.txt'\n",
    "col2_output_path = 'col2.txt'\n",
    "\n",
    "# 列を抜き出してファイルに保存\n",
    "extract_columns(input_file_path, col1_output_path, col2_output_path)\n",
    "print(f\"1列目を '{col1_output_path}' に、2列目を '{col2_output_path}' に保存しました。\")\n"
   ]
  },
  {
   "cell_type": "markdown",
   "id": "855e27f2-330c-4971-bd9e-b50cea45c95d",
   "metadata": {},
   "source": [
    "# 13"
   ]
  },
  {
   "cell_type": "code",
   "execution_count": 4,
   "id": "b8cadee0-38b6-417b-b0ac-c5525ecab765",
   "metadata": {},
   "outputs": [
    {
     "name": "stdout",
     "output_type": "stream",
     "text": [
      "'col1.txt' と 'col2.txt' を結合し、'merged.txt' に保存しました。\n"
     ]
    }
   ],
   "source": [
    "# col1.txtとcol2.txtを結合して、タブ区切りで新しいファイルに書き込むプログラム\n",
    "def merge_columns(col1_file, col2_file, output_file):\n",
    "    with open(col1_file, 'r') as col1, open(col2_file, 'r') as col2, open(output_file, 'w') as output:\n",
    "        for col1_line, col2_line in zip(col1, col2):\n",
    "            output.write(f\"{col1_line.strip()}\\t{col2_line.strip()}\\n\")  # タブで結合して書き込む\n",
    "\n",
    "# ファイルパスの指定\n",
    "col1_file_path = 'col1.txt'\n",
    "col2_file_path = 'col2.txt'\n",
    "output_file_path = 'merged.txt'\n",
    "\n",
    "# 結合処理の実行\n",
    "merge_columns(col1_file_path, col2_file_path, output_file_path)\n",
    "print(f\"'{col1_file_path}' と '{col2_file_path}' を結合し、'{output_file_path}' に保存しました。\")\n"
   ]
  },
  {
   "cell_type": "markdown",
   "id": "d436675d-62f5-4ed9-9682-384819aca0f3",
   "metadata": {},
   "source": [
    "# 14"
   ]
  },
  {
   "cell_type": "code",
   "execution_count": 6,
   "id": "eb590052-e6ac-4078-960e-847dc9cafebf",
   "metadata": {},
   "outputs": [],
   "source": [
    "# python 14.py popular-names.txt 5"
   ]
  },
  {
   "cell_type": "markdown",
   "id": "e90e985b-3b21-4c37-af90-b848d80384a2",
   "metadata": {},
   "source": [
    "# 15"
   ]
  },
  {
   "cell_type": "code",
   "execution_count": 7,
   "id": "90eff795-4ffa-4821-ba2c-250f85f2c4ba",
   "metadata": {},
   "outputs": [],
   "source": [
    "# python 15.py popular-names.txt 5"
   ]
  },
  {
   "cell_type": "markdown",
   "id": "63f97fc3-7e02-4bf8-98c2-c67b3bf09032",
   "metadata": {},
   "source": [
    "# 16"
   ]
  },
  {
   "cell_type": "code",
   "execution_count": 8,
   "id": "10396eaa-d5b6-443b-b961-be79172cf984",
   "metadata": {},
   "outputs": [],
   "source": [
    "# python 16.py popular-names.txt 5"
   ]
  },
  {
   "cell_type": "markdown",
   "id": "9e183940-7707-4173-9ea1-eddd345d0e7e",
   "metadata": {},
   "source": [
    "# 17"
   ]
  },
  {
   "cell_type": "code",
   "execution_count": 9,
   "id": "87e6f71e-b61f-439f-991c-1e5e0768f673",
   "metadata": {},
   "outputs": [
    {
     "name": "stdout",
     "output_type": "stream",
     "text": [
      "Abigail\n",
      "Aiden\n",
      "Alexander\n",
      "Alexis\n",
      "Alice\n",
      "Amanda\n",
      "Amelia\n",
      "Amy\n",
      "Andrew\n",
      "Angela\n",
      "Anna\n",
      "Annie\n",
      "Anthony\n",
      "Ashley\n",
      "Austin\n",
      "Ava\n",
      "Barbara\n",
      "Benjamin\n",
      "Bertha\n",
      "Bessie\n",
      "Betty\n",
      "Brandon\n",
      "Brian\n",
      "Brittany\n",
      "Carol\n",
      "Carolyn\n",
      "Charles\n",
      "Charlotte\n",
      "Chloe\n",
      "Christopher\n",
      "Clara\n",
      "Crystal\n",
      "Cynthia\n",
      "Daniel\n",
      "David\n",
      "Deborah\n",
      "Debra\n",
      "Donald\n",
      "Donna\n",
      "Doris\n",
      "Dorothy\n",
      "Edward\n",
      "Elijah\n",
      "Elizabeth\n",
      "Emily\n",
      "Emma\n",
      "Ethan\n",
      "Ethel\n",
      "Evelyn\n",
      "Florence\n",
      "Frances\n",
      "Frank\n",
      "Gary\n",
      "George\n",
      "Hannah\n",
      "Harper\n",
      "Harry\n",
      "Heather\n",
      "Helen\n",
      "Henry\n",
      "Ida\n",
      "Isabella\n",
      "Jacob\n",
      "James\n",
      "Jason\n",
      "Jayden\n",
      "Jeffrey\n",
      "Jennifer\n",
      "Jessica\n",
      "Joan\n",
      "John\n",
      "Joseph\n",
      "Joshua\n",
      "Judith\n",
      "Julie\n",
      "Justin\n",
      "Karen\n",
      "Kathleen\n",
      "Kelly\n",
      "Kimberly\n",
      "Larry\n",
      "Laura\n",
      "Lauren\n",
      "Liam\n",
      "Lillian\n",
      "Linda\n",
      "Lisa\n",
      "Logan\n",
      "Lori\n",
      "Lucas\n",
      "Madison\n",
      "Margaret\n",
      "Marie\n",
      "Mark\n",
      "Mary\n",
      "Mason\n",
      "Matthew\n",
      "Megan\n",
      "Melissa\n",
      "Mia\n",
      "Michael\n",
      "Michelle\n",
      "Mildred\n",
      "Minnie\n",
      "Nancy\n",
      "Nicholas\n",
      "Nicole\n",
      "Noah\n",
      "Oliver\n",
      "Olivia\n",
      "Pamela\n",
      "Patricia\n",
      "Rachel\n",
      "Rebecca\n",
      "Richard\n",
      "Robert\n",
      "Ronald\n",
      "Ruth\n",
      "Samantha\n",
      "Sandra\n",
      "Sarah\n",
      "Scott\n",
      "Sharon\n",
      "Shirley\n",
      "Sophia\n",
      "Stephanie\n",
      "Steven\n",
      "Susan\n",
      "Tammy\n",
      "Taylor\n",
      "Thomas\n",
      "Tracy\n",
      "Tyler\n",
      "Virginia\n",
      "Walter\n",
      "William\n"
     ]
    }
   ],
   "source": [
    "def unique_first_column(file_path):\n",
    "    with open(file_path, 'r') as file:\n",
    "        first_column = {line.split('\\t')[0] for line in file}  # 1列目をセットに格納\n",
    "    return first_column\n",
    "\n",
    "# ファイルパスの指定\n",
    "file_path = 'popular-names.txt'\n",
    "\n",
    "# 1列目の異なる文字列を取得\n",
    "unique_names = unique_first_column(file_path)\n",
    "\n",
    "# 結果を出力\n",
    "for name in sorted(unique_names):\n",
    "    print(name)\n"
   ]
  },
  {
   "cell_type": "markdown",
   "id": "84c1721f-3aa2-4d1e-81d1-ec0b1a6d7e17",
   "metadata": {},
   "source": [
    "# 18"
   ]
  },
  {
   "cell_type": "code",
   "execution_count": 10,
   "id": "a0cb0051-d087-474e-aaea-ddebf1b759e4",
   "metadata": {},
   "outputs": [
    {
     "name": "stdout",
     "output_type": "stream",
     "text": [
      "3列目を基準に逆順でソートし、'sorted_by_third_column.txt' に保存しました。\n"
     ]
    }
   ],
   "source": [
    "def sort_by_third_column(file_path, output_file):\n",
    "    with open(file_path, 'r') as file:\n",
    "        lines = file.readlines()\n",
    "\n",
    "    # 3列目の数値を基準に行をソート（逆順）\n",
    "    sorted_lines = sorted(lines, key=lambda line: int(line.split('\\t')[2]), reverse=True)\n",
    "\n",
    "    # 結果を出力\n",
    "    with open(output_file, 'w') as output:\n",
    "        output.writelines(sorted_lines)\n",
    "\n",
    "# ファイルパスの指定\n",
    "input_file_path = 'popular-names.txt'\n",
    "output_file_path = 'sorted_by_third_column.txt'\n",
    "\n",
    "# 3列目の数値でソートして新しいファイルに保存\n",
    "sort_by_third_column(input_file_path, output_file_path)\n",
    "print(f\"3列目を基準に逆順でソートし、'{output_file_path}' に保存しました。\")\n"
   ]
  },
  {
   "cell_type": "markdown",
   "id": "c33ba629-cdb2-492c-9653-61f7403196bd",
   "metadata": {},
   "source": [
    "# 19"
   ]
  },
  {
   "cell_type": "code",
   "execution_count": 16,
   "id": "2458ae82-7d40-4a61-a51a-7959f7ce7cbf",
   "metadata": {},
   "outputs": [
    {
     "name": "stdout",
     "output_type": "stream",
     "text": [
      "James: 118\n",
      "William: 111\n",
      "John: 108\n",
      "Robert: 108\n",
      "Mary: 92\n",
      "Charles: 75\n",
      "Michael: 74\n",
      "Elizabeth: 73\n",
      "Joseph: 70\n",
      "Margaret: 60\n",
      "George: 58\n",
      "Thomas: 58\n",
      "David: 57\n",
      "Richard: 51\n",
      "Helen: 45\n",
      "Frank: 43\n",
      "Christopher: 43\n",
      "Anna: 41\n",
      "Edward: 40\n",
      "Ruth: 39\n",
      "Patricia: 38\n",
      "Matthew: 37\n",
      "Dorothy: 36\n",
      "Emma: 35\n",
      "Barbara: 32\n",
      "Daniel: 31\n",
      "Joshua: 31\n",
      "Sarah: 26\n",
      "Linda: 26\n",
      "Jennifer: 26\n",
      "Emily: 26\n",
      "Jessica: 25\n",
      "Jacob: 25\n",
      "Mildred: 24\n",
      "Betty: 24\n",
      "Susan: 24\n",
      "Henry: 23\n",
      "Ashley: 23\n",
      "Nancy: 22\n",
      "Andrew: 21\n",
      "Florence: 20\n",
      "Marie: 20\n",
      "Donald: 20\n",
      "Amanda: 20\n",
      "Samantha: 19\n",
      "Karen: 18\n",
      "Lisa: 18\n",
      "Melissa: 18\n",
      "Madison: 18\n",
      "Olivia: 18\n",
      "Stephanie: 17\n",
      "Abigail: 17\n",
      "Ethel: 16\n",
      "Sandra: 16\n",
      "Mark: 16\n",
      "Frances: 15\n",
      "Carol: 15\n",
      "Angela: 15\n",
      "Michelle: 15\n",
      "Heather: 15\n",
      "Ethan: 15\n",
      "Isabella: 15\n",
      "Shirley: 14\n",
      "Kimberly: 14\n",
      "Amy: 14\n",
      "Ava: 14\n",
      "Virginia: 13\n",
      "Deborah: 13\n",
      "Brian: 13\n",
      "Jason: 13\n",
      "Nicole: 13\n",
      "Hannah: 13\n",
      "Sophia: 13\n",
      "Minnie: 12\n",
      "Bertha: 12\n",
      "Donna: 12\n",
      "Cynthia: 11\n",
      "Alice: 10\n",
      "Doris: 10\n",
      "Ronald: 10\n",
      "Brittany: 10\n",
      "Nicholas: 10\n",
      "Mia: 10\n",
      "Noah: 10\n",
      "Joan: 9\n",
      "Debra: 9\n",
      "Tyler: 9\n",
      "Ida: 8\n",
      "Clara: 8\n",
      "Judith: 8\n",
      "Taylor: 8\n",
      "Alexis: 8\n",
      "Alexander: 8\n",
      "Mason: 8\n",
      "Harry: 7\n",
      "Sharon: 7\n",
      "Steven: 7\n",
      "Tammy: 7\n",
      "Brandon: 7\n",
      "Liam: 7\n",
      "Anthony: 6\n",
      "Annie: 5\n",
      "Gary: 5\n",
      "Jeffrey: 5\n",
      "Jayden: 5\n",
      "Charlotte: 5\n",
      "Lillian: 4\n",
      "Kathleen: 4\n",
      "Justin: 4\n",
      "Austin: 4\n",
      "Chloe: 4\n",
      "Benjamin: 4\n",
      "Evelyn: 3\n",
      "Megan: 3\n",
      "Aiden: 3\n",
      "Harper: 3\n",
      "Elijah: 3\n",
      "Bessie: 2\n",
      "Larry: 2\n",
      "Rebecca: 2\n",
      "Lauren: 2\n",
      "Amelia: 2\n",
      "Logan: 2\n",
      "Oliver: 2\n",
      "Walter: 1\n",
      "Carolyn: 1\n",
      "Pamela: 1\n",
      "Lori: 1\n",
      "Laura: 1\n",
      "Tracy: 1\n",
      "Julie: 1\n",
      "Scott: 1\n",
      "Kelly: 1\n",
      "Crystal: 1\n",
      "Rachel: 1\n",
      "Lucas: 1\n"
     ]
    }
   ],
   "source": [
    "from collections import Counter\n",
    "\n",
    "# 1列目の出現頻度を求め、頻度順にソートするプログラム\n",
    "def count_first_column(file_path):\n",
    "    with open(file_path, 'r') as file:\n",
    "        first_column = [line.split('\\t')[0] for line in file]  # 1列目の文字列をリストに格納\n",
    "\n",
    "    # 出現頻度をカウント\n",
    "    counts = Counter(first_column)\n",
    "\n",
    "    # 出現頻度の高い順にソートして表示\n",
    "    sorted_counts = sorted(counts.items(), key=lambda x: x[1], reverse=True)\n",
    "\n",
    "    for name, count in sorted_counts:\n",
    "        print(f\"{name}: {count}\")\n",
    "\n",
    "# ファイルパスの指定\n",
    "file_path = 'popular-names.txt'\n",
    "\n",
    "# 出現頻度をカウントして表示\n",
    "count_first_column(file_path)\n"
   ]
  },
  {
   "cell_type": "code",
   "execution_count": null,
   "id": "7afe0cc1-3575-484c-9ab6-7009bef419f0",
   "metadata": {},
   "outputs": [],
   "source": []
  }
 ],
 "metadata": {
  "kernelspec": {
   "display_name": "Python 3 (ipykernel)",
   "language": "python",
   "name": "python3"
  },
  "language_info": {
   "codemirror_mode": {
    "name": "ipython",
    "version": 3
   },
   "file_extension": ".py",
   "mimetype": "text/x-python",
   "name": "python",
   "nbconvert_exporter": "python",
   "pygments_lexer": "ipython3",
   "version": "3.12.5"
  }
 },
 "nbformat": 4,
 "nbformat_minor": 5
}
